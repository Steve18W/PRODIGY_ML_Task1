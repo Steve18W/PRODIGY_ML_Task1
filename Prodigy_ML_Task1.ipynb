{
 "cells": [
  {
   "cell_type": "markdown",
   "id": "29b39f4a",
   "metadata": {},
   "source": [
    "# Machine Learning Internship Program at Prodigy InfoTech:"
   ]
  },
  {
   "cell_type": "raw",
   "id": "f39eb477",
   "metadata": {},
   "source": [
    "Steve W\n",
    "steve94429@gmail.com\n",
    "9442933527"
   ]
  },
  {
   "cell_type": "markdown",
   "id": "78c6b5ad",
   "metadata": {},
   "source": [
    "# Task 1:\n",
    "\n",
    "Implement a linear regression model to predict the prices of houses based on their square footage and the number of bedrooms and bathrooms.\n"
   ]
  },
  {
   "cell_type": "code",
   "execution_count": 1,
   "id": "1c935777",
   "metadata": {},
   "outputs": [
    {
     "name": "stdout",
     "output_type": "stream",
     "text": [
      "Mean Squared Error: 2806426667.247852\n",
      "R-squared: 0.6341189942328374\n",
      "     Id      SalePrice\n",
      "0  1461  122173.313104\n",
      "1  1462  140561.538683\n",
      "2  1463  201783.754896\n",
      "3  1464  199183.097221\n",
      "4  1465  192133.739106\n"
     ]
    }
   ],
   "source": [
    "import pandas as pd\n",
    "from sklearn.model_selection import train_test_split\n",
    "from sklearn.linear_model import LinearRegression\n",
    "from sklearn.metrics import mean_squared_error, r2_score\n",
    "\n",
    "train_data = pd.read_csv('train.csv')\n",
    "\n",
    "\n",
    "features = ['GrLivArea', 'BedroomAbvGr', 'FullBath']\n",
    "target = 'SalePrice'\n",
    "\n",
    "\n",
    "X = train_data[features]\n",
    "y = train_data[target]\n",
    "\n",
    "\n",
    "X_train, X_val, y_train, y_val = train_test_split(X, y, test_size=0.2, random_state=42)\n",
    "\n",
    "\n",
    "model = LinearRegression()\n",
    "model.fit(X_train, y_train)\n",
    "\n",
    "\n",
    "y_val_pred = model.predict(X_val)\n",
    "\n",
    "\n",
    "mse = mean_squared_error(y_val, y_val_pred)\n",
    "r2 = r2_score(y_val, y_val_pred)\n",
    "\n",
    "print(f'Mean Squared Error: {mse}')\n",
    "print(f'R-squared: {r2}')\n",
    "\n",
    "\n",
    "test_data = pd.read_csv('test.csv')\n",
    "\n",
    "\n",
    "X_test = test_data[features]\n",
    "\n",
    "\n",
    "test_predictions = model.predict(X_test)\n",
    "\n",
    "\n",
    "test_predictions_df = pd.DataFrame({'Id': test_data['Id'], 'SalePrice': test_predictions})\n",
    "print(test_predictions_df.head())\n",
    "\n",
    "\n"
   ]
  },
  {
   "cell_type": "code",
   "execution_count": null,
   "id": "d519128e",
   "metadata": {},
   "outputs": [],
   "source": []
  }
 ],
 "metadata": {
  "kernelspec": {
   "display_name": "Python 3 (ipykernel)",
   "language": "python",
   "name": "python3"
  },
  "language_info": {
   "codemirror_mode": {
    "name": "ipython",
    "version": 3
   },
   "file_extension": ".py",
   "mimetype": "text/x-python",
   "name": "python",
   "nbconvert_exporter": "python",
   "pygments_lexer": "ipython3",
   "version": "3.11.4"
  }
 },
 "nbformat": 4,
 "nbformat_minor": 5
}
